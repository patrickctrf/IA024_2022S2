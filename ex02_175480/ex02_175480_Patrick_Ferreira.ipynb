{
  "nbformat": 4,
  "nbformat_minor": 0,
  "metadata": {
    "colab": {
      "name": "ex02_175480_Patrick_Ferreira.ipynb",
      "provenance": [],
      "collapsed_sections": [],
      "include_colab_link": true
    },
    "kernelspec": {
      "name": "python3",
      "display_name": "Python 3"
    }
  },
  "cells": [
    {
      "cell_type": "markdown",
      "metadata": {
        "id": "view-in-github",
        "colab_type": "text"
      },
      "source": [
        "<a href=\"https://colab.research.google.com/github/patrickctrf/IA024_2022S2/blob/main/ex02_175480/ex02_175480_Patrick_Ferreira.ipynb\" target=\"_parent\"><img src=\"https://colab.research.google.com/assets/colab-badge.svg\" alt=\"Open In Colab\"/></a>"
      ]
    },
    {
      "cell_type": "markdown",
      "metadata": {
        "id": "Od7iUgHy5SSi"
      },
      "source": [
        "# Aula 2: Análise de Sentimentos usando Bag of Words\n",
        "\n",
        "Neste notebook iremos treinar um rede de uma única camada para fazer análise de sentimento usando o dataset IMDB."
      ]
    },
    {
      "cell_type": "code",
      "source": [
        "nome = \"Patrick de Carvalho Tavares Rezende Ferreira\"\n",
        "print(f'Meu nome é {nome}')"
      ],
      "metadata": {
        "id": "3vAaCL0u-zg3",
        "outputId": "f5f754e4-97f0-4693-8895-50c200eb0d19",
        "colab": {
          "base_uri": "https://localhost:8080/"
        }
      },
      "execution_count": null,
      "outputs": [
        {
          "output_type": "stream",
          "name": "stdout",
          "text": [
            "Meu nome é Patrick de Carvalho Tavares Rezende Ferreira\n"
          ]
        }
      ]
    },
    {
      "cell_type": "markdown",
      "source": [
        "# Importando as bibliotecas necessárias"
      ],
      "metadata": {
        "id": "Mhv5U8Muiyz_"
      }
    },
    {
      "cell_type": "code",
      "source": [
        "import collections\n",
        "import pandas as pd\n",
        "import re\n",
        "import torch\n",
        "from typing import List"
      ],
      "metadata": {
        "id": "qzTCVXoOiyIs"
      },
      "execution_count": null,
      "outputs": []
    },
    {
      "cell_type": "markdown",
      "metadata": {
        "id": "CXFdJz2KVeQw"
      },
      "source": [
        "# Preparando Dados"
      ]
    },
    {
      "cell_type": "markdown",
      "metadata": {
        "id": "gHMi_Kq65fPM"
      },
      "source": [
        "Primeiro, fazemos download do dataset:"
      ]
    },
    {
      "cell_type": "code",
      "metadata": {
        "id": "2wbnfzst5O3k",
        "outputId": "0d2a9649-4541-49cd-98e8-e6f6e980fc33",
        "colab": {
          "base_uri": "https://localhost:8080/"
        }
      },
      "source": [
        "!wget -nc http://files.fast.ai/data/examples/imdb_sample.tgz\n",
        "!tar -xzf imdb_sample.tgz"
      ],
      "execution_count": null,
      "outputs": [
        {
          "output_type": "stream",
          "name": "stdout",
          "text": [
            "--2022-08-30 15:09:39--  http://files.fast.ai/data/examples/imdb_sample.tgz\n",
            "Resolving files.fast.ai (files.fast.ai)... 104.26.2.19, 104.26.3.19, 172.67.69.159, ...\n",
            "Connecting to files.fast.ai (files.fast.ai)|104.26.2.19|:80... connected.\n",
            "HTTP request sent, awaiting response... 301 Moved Permanently\n",
            "Location: https://files.fast.ai/data/examples/imdb_sample.tgz [following]\n",
            "--2022-08-30 15:09:39--  https://files.fast.ai/data/examples/imdb_sample.tgz\n",
            "Connecting to files.fast.ai (files.fast.ai)|104.26.2.19|:443... connected.\n",
            "HTTP request sent, awaiting response... 200 OK\n",
            "Length: 571827 (558K) [application/x-gtar-compressed]\n",
            "Saving to: ‘imdb_sample.tgz’\n",
            "\n",
            "\rimdb_sample.tgz       0%[                    ]       0  --.-KB/s               \rimdb_sample.tgz     100%[===================>] 558.42K  --.-KB/s    in 0.03s   \n",
            "\n",
            "2022-08-30 15:09:39 (21.4 MB/s) - ‘imdb_sample.tgz’ saved [571827/571827]\n",
            "\n"
          ]
        }
      ]
    },
    {
      "cell_type": "markdown",
      "metadata": {
        "id": "0Giyi5Rv_NIm"
      },
      "source": [
        "Carregamos o dataset .csv usando o pandas:"
      ]
    },
    {
      "cell_type": "code",
      "metadata": {
        "id": "0HIN_xLI_TuT",
        "colab": {
          "base_uri": "https://localhost:8080/",
          "height": 206
        },
        "outputId": "a46f5a7b-abfa-4aaa-ef8f-66c63ade5720"
      },
      "source": [
        "df = pd.read_csv('imdb_sample/texts.csv')\n",
        "df.shape\n",
        "df.head()"
      ],
      "execution_count": null,
      "outputs": [
        {
          "output_type": "execute_result",
          "data": {
            "text/plain": [
              "      label                                               text  is_valid\n",
              "0  negative  Un-bleeping-believable! Meg Ryan doesn't even ...     False\n",
              "1  positive  This is a extremely well-made film. The acting...     False\n",
              "2  negative  Every once in a long while a movie will come a...     False\n",
              "3  positive  Name just says it all. I watched this movie wi...     False\n",
              "4  negative  This movie succeeds at being one of the most u...     False"
            ],
            "text/html": [
              "\n",
              "  <div id=\"df-c9ffba6a-70fc-45ee-a88c-b078729d0267\">\n",
              "    <div class=\"colab-df-container\">\n",
              "      <div>\n",
              "<style scoped>\n",
              "    .dataframe tbody tr th:only-of-type {\n",
              "        vertical-align: middle;\n",
              "    }\n",
              "\n",
              "    .dataframe tbody tr th {\n",
              "        vertical-align: top;\n",
              "    }\n",
              "\n",
              "    .dataframe thead th {\n",
              "        text-align: right;\n",
              "    }\n",
              "</style>\n",
              "<table border=\"1\" class=\"dataframe\">\n",
              "  <thead>\n",
              "    <tr style=\"text-align: right;\">\n",
              "      <th></th>\n",
              "      <th>label</th>\n",
              "      <th>text</th>\n",
              "      <th>is_valid</th>\n",
              "    </tr>\n",
              "  </thead>\n",
              "  <tbody>\n",
              "    <tr>\n",
              "      <th>0</th>\n",
              "      <td>negative</td>\n",
              "      <td>Un-bleeping-believable! Meg Ryan doesn't even ...</td>\n",
              "      <td>False</td>\n",
              "    </tr>\n",
              "    <tr>\n",
              "      <th>1</th>\n",
              "      <td>positive</td>\n",
              "      <td>This is a extremely well-made film. The acting...</td>\n",
              "      <td>False</td>\n",
              "    </tr>\n",
              "    <tr>\n",
              "      <th>2</th>\n",
              "      <td>negative</td>\n",
              "      <td>Every once in a long while a movie will come a...</td>\n",
              "      <td>False</td>\n",
              "    </tr>\n",
              "    <tr>\n",
              "      <th>3</th>\n",
              "      <td>positive</td>\n",
              "      <td>Name just says it all. I watched this movie wi...</td>\n",
              "      <td>False</td>\n",
              "    </tr>\n",
              "    <tr>\n",
              "      <th>4</th>\n",
              "      <td>negative</td>\n",
              "      <td>This movie succeeds at being one of the most u...</td>\n",
              "      <td>False</td>\n",
              "    </tr>\n",
              "  </tbody>\n",
              "</table>\n",
              "</div>\n",
              "      <button class=\"colab-df-convert\" onclick=\"convertToInteractive('df-c9ffba6a-70fc-45ee-a88c-b078729d0267')\"\n",
              "              title=\"Convert this dataframe to an interactive table.\"\n",
              "              style=\"display:none;\">\n",
              "        \n",
              "  <svg xmlns=\"http://www.w3.org/2000/svg\" height=\"24px\"viewBox=\"0 0 24 24\"\n",
              "       width=\"24px\">\n",
              "    <path d=\"M0 0h24v24H0V0z\" fill=\"none\"/>\n",
              "    <path d=\"M18.56 5.44l.94 2.06.94-2.06 2.06-.94-2.06-.94-.94-2.06-.94 2.06-2.06.94zm-11 1L8.5 8.5l.94-2.06 2.06-.94-2.06-.94L8.5 2.5l-.94 2.06-2.06.94zm10 10l.94 2.06.94-2.06 2.06-.94-2.06-.94-.94-2.06-.94 2.06-2.06.94z\"/><path d=\"M17.41 7.96l-1.37-1.37c-.4-.4-.92-.59-1.43-.59-.52 0-1.04.2-1.43.59L10.3 9.45l-7.72 7.72c-.78.78-.78 2.05 0 2.83L4 21.41c.39.39.9.59 1.41.59.51 0 1.02-.2 1.41-.59l7.78-7.78 2.81-2.81c.8-.78.8-2.07 0-2.86zM5.41 20L4 18.59l7.72-7.72 1.47 1.35L5.41 20z\"/>\n",
              "  </svg>\n",
              "      </button>\n",
              "      \n",
              "  <style>\n",
              "    .colab-df-container {\n",
              "      display:flex;\n",
              "      flex-wrap:wrap;\n",
              "      gap: 12px;\n",
              "    }\n",
              "\n",
              "    .colab-df-convert {\n",
              "      background-color: #E8F0FE;\n",
              "      border: none;\n",
              "      border-radius: 50%;\n",
              "      cursor: pointer;\n",
              "      display: none;\n",
              "      fill: #1967D2;\n",
              "      height: 32px;\n",
              "      padding: 0 0 0 0;\n",
              "      width: 32px;\n",
              "    }\n",
              "\n",
              "    .colab-df-convert:hover {\n",
              "      background-color: #E2EBFA;\n",
              "      box-shadow: 0px 1px 2px rgba(60, 64, 67, 0.3), 0px 1px 3px 1px rgba(60, 64, 67, 0.15);\n",
              "      fill: #174EA6;\n",
              "    }\n",
              "\n",
              "    [theme=dark] .colab-df-convert {\n",
              "      background-color: #3B4455;\n",
              "      fill: #D2E3FC;\n",
              "    }\n",
              "\n",
              "    [theme=dark] .colab-df-convert:hover {\n",
              "      background-color: #434B5C;\n",
              "      box-shadow: 0px 1px 3px 1px rgba(0, 0, 0, 0.15);\n",
              "      filter: drop-shadow(0px 1px 2px rgba(0, 0, 0, 0.3));\n",
              "      fill: #FFFFFF;\n",
              "    }\n",
              "  </style>\n",
              "\n",
              "      <script>\n",
              "        const buttonEl =\n",
              "          document.querySelector('#df-c9ffba6a-70fc-45ee-a88c-b078729d0267 button.colab-df-convert');\n",
              "        buttonEl.style.display =\n",
              "          google.colab.kernel.accessAllowed ? 'block' : 'none';\n",
              "\n",
              "        async function convertToInteractive(key) {\n",
              "          const element = document.querySelector('#df-c9ffba6a-70fc-45ee-a88c-b078729d0267');\n",
              "          const dataTable =\n",
              "            await google.colab.kernel.invokeFunction('convertToInteractive',\n",
              "                                                     [key], {});\n",
              "          if (!dataTable) return;\n",
              "\n",
              "          const docLinkHtml = 'Like what you see? Visit the ' +\n",
              "            '<a target=\"_blank\" href=https://colab.research.google.com/notebooks/data_table.ipynb>data table notebook</a>'\n",
              "            + ' to learn more about interactive tables.';\n",
              "          element.innerHTML = '';\n",
              "          dataTable['output_type'] = 'display_data';\n",
              "          await google.colab.output.renderOutput(dataTable, element);\n",
              "          const docLink = document.createElement('div');\n",
              "          docLink.innerHTML = docLinkHtml;\n",
              "          element.appendChild(docLink);\n",
              "        }\n",
              "      </script>\n",
              "    </div>\n",
              "  </div>\n",
              "  "
            ]
          },
          "metadata": {},
          "execution_count": 4
        }
      ]
    },
    {
      "cell_type": "markdown",
      "metadata": {
        "id": "S8dfjdJ-AV79"
      },
      "source": [
        "Iremos agora apenas selecionar 100 exemplos de treinamento:"
      ]
    },
    {
      "cell_type": "code",
      "metadata": {
        "id": "KCoftmPmAfXE",
        "outputId": "ff061e38-175b-4cf6-ec51-dc1ded494cd3",
        "colab": {
          "base_uri": "https://localhost:8080/"
        }
      },
      "source": [
        "treino = df[df['is_valid'] == False]  # Apenas treinamento, isto é, descartamos o dataset de validação.\n",
        "\n",
        "print('treino.shape original:', treino.shape)\n",
        "\n",
        "treino = treino[:100]  # Aqui truncamos o dataset para os 100 primeiros exemplos. \n",
        "\n",
        "print('treino.shape depois:', treino.shape)"
      ],
      "execution_count": null,
      "outputs": [
        {
          "output_type": "stream",
          "name": "stdout",
          "text": [
            "treino.shape original: (800, 3)\n",
            "treino.shape depois: (100, 3)\n"
          ]
        }
      ]
    },
    {
      "cell_type": "markdown",
      "metadata": {
        "id": "ZHus6FH7DftH"
      },
      "source": [
        "Iremos dividir este conjunto em entrada (X) e saída desejada (Y, target) e converter as strings \"positive\" e \"negative\" do target para valores booleanos:"
      ]
    },
    {
      "cell_type": "code",
      "metadata": {
        "id": "46RdLFLkEW-X",
        "outputId": "68c6cd59-c51c-4a17-d67c-366e51b45a86",
        "colab": {
          "base_uri": "https://localhost:8080/"
        }
      },
      "source": [
        "X_treino = treino['text']\n",
        "Y_treino = treino['label']\n",
        "\n",
        "print(f'Primeiras linhas de X_treino:\\n{X_treino.head()}\\n')\n",
        "print(f'Primeiras linhas de Y_treino:\\n{Y_treino.head()}\\n')\n",
        "\n",
        "mapeamento = {'positive': True, 'negative': False}\n",
        "Y_treino = Y_treino.map(mapeamento)\n",
        "Y_treino = torch.tensor(Y_treino.values, dtype=torch.long)\n",
        "print(f'Tamanho de Y_treino: {Y_treino.shape}')\n",
        "print(f'5 primeiras linhas de Y_treino: {Y_treino[:5]}')\n",
        "print(f'Número de exemplos positivos: {(Y_treino == True).sum()}')\n",
        "print(f'Número de exemplos negativos: {(Y_treino == False).sum()}')"
      ],
      "execution_count": null,
      "outputs": [
        {
          "output_type": "stream",
          "name": "stdout",
          "text": [
            "Primeiras linhas de X_treino:\n",
            "0    Un-bleeping-believable! Meg Ryan doesn't even ...\n",
            "1    This is a extremely well-made film. The acting...\n",
            "2    Every once in a long while a movie will come a...\n",
            "3    Name just says it all. I watched this movie wi...\n",
            "4    This movie succeeds at being one of the most u...\n",
            "Name: text, dtype: object\n",
            "\n",
            "Primeiras linhas de Y_treino:\n",
            "0    negative\n",
            "1    positive\n",
            "2    negative\n",
            "3    positive\n",
            "4    negative\n",
            "Name: label, dtype: object\n",
            "\n",
            "Tamanho de Y_treino: torch.Size([100])\n",
            "5 primeiras linhas de Y_treino: tensor([0, 1, 0, 1, 0])\n",
            "Número de exemplos positivos: 51\n",
            "Número de exemplos negativos: 49\n"
          ]
        }
      ]
    },
    {
      "cell_type": "markdown",
      "metadata": {
        "id": "XLlaPgP0Z_D4"
      },
      "source": [
        "# Definindo o tokenizador\n",
        "\n",
        "Agora temos a função de tokenização, isto é, que converte strings para tokens."
      ]
    },
    {
      "cell_type": "code",
      "metadata": {
        "id": "YIpp1C_qZ-QX"
      },
      "source": [
        "def tokenize(text: str):\n",
        "    \"\"\"\n",
        "    Convert string to a list of tokens (i.e., words).\n",
        "    This function lower cases everything and removes punctuation.\n",
        "    \"\"\"\n",
        "    # Escreva aqui seu código.\n",
        "    return"
      ],
      "execution_count": null,
      "outputs": []
    },
    {
      "cell_type": "markdown",
      "source": [
        "## Testando a função com um exemplo simples\n"
      ],
      "metadata": {
        "id": "uE7kwbIYlkPn"
      }
    },
    {
      "cell_type": "code",
      "source": [
        "assert tokenize(\"I like to eat pizza.\") == ['i', 'like', 'to', 'eat', 'pizza'], \"Não passou no assert.\"\n",
        "print('Passou no assert!')"
      ],
      "metadata": {
        "id": "iS6QbpUwifyY",
        "outputId": "8d4dd79b-b038-4f17-c627-81d2d9a2a133",
        "colab": {
          "base_uri": "https://localhost:8080/",
          "height": 183
        }
      },
      "execution_count": null,
      "outputs": [
        {
          "output_type": "error",
          "ename": "AssertionError",
          "evalue": "ignored",
          "traceback": [
            "\u001b[0;31m---------------------------------------------------------------------------\u001b[0m",
            "\u001b[0;31mAssertionError\u001b[0m                            Traceback (most recent call last)",
            "\u001b[0;32m<ipython-input-8-4666a0f5ff64>\u001b[0m in \u001b[0;36m<module>\u001b[0;34m\u001b[0m\n\u001b[0;32m----> 1\u001b[0;31m \u001b[0;32massert\u001b[0m \u001b[0mtokenize\u001b[0m\u001b[0;34m(\u001b[0m\u001b[0;34m\"I like to eat pizza.\"\u001b[0m\u001b[0;34m)\u001b[0m \u001b[0;34m==\u001b[0m \u001b[0;34m[\u001b[0m\u001b[0;34m'i'\u001b[0m\u001b[0;34m,\u001b[0m \u001b[0;34m'like'\u001b[0m\u001b[0;34m,\u001b[0m \u001b[0;34m'to'\u001b[0m\u001b[0;34m,\u001b[0m \u001b[0;34m'eat'\u001b[0m\u001b[0;34m,\u001b[0m \u001b[0;34m'pizza'\u001b[0m\u001b[0;34m]\u001b[0m\u001b[0;34m,\u001b[0m \u001b[0;34m\"Não passou no assert.\"\u001b[0m\u001b[0;34m\u001b[0m\u001b[0;34m\u001b[0m\u001b[0m\n\u001b[0m\u001b[1;32m      2\u001b[0m \u001b[0mprint\u001b[0m\u001b[0;34m(\u001b[0m\u001b[0;34m'Passou no assert!'\u001b[0m\u001b[0;34m)\u001b[0m\u001b[0;34m\u001b[0m\u001b[0;34m\u001b[0m\u001b[0m\n",
            "\u001b[0;31mAssertionError\u001b[0m: Não passou no assert."
          ]
        }
      ]
    },
    {
      "cell_type": "markdown",
      "source": [
        "# Definindo o vocabulário\n",
        "\n",
        "Selecionaremos os `max_tokens` (ex: 1000) tokens mais frequentes do dataset de treino como sendo nosso vocabulário."
      ],
      "metadata": {
        "id": "gbf_yO6XJ_hY"
      }
    },
    {
      "cell_type": "code",
      "source": [
        "def create_vocab(texts: List[str], max_tokens: int):\n",
        "    \"\"\"\n",
        "    Returns a dictionary whose keys are tokens and values are token ids (from 0 to max_tokens - 1).\n",
        "    \"\"\"\n",
        "    # Escreva aqui seu código.\n",
        "    return"
      ],
      "metadata": {
        "id": "jVc8uucLK4pP"
      },
      "execution_count": null,
      "outputs": []
    },
    {
      "cell_type": "markdown",
      "source": [
        "## Testando a função\n"
      ],
      "metadata": {
        "id": "aMYyPXpYlr64"
      }
    },
    {
      "cell_type": "code",
      "source": [
        "# Escreva aqui seu(s) assert(s)."
      ],
      "metadata": {
        "id": "fF_9u5e4FdD5"
      },
      "execution_count": null,
      "outputs": []
    },
    {
      "cell_type": "markdown",
      "source": [
        "# Função para converter string para Bag-of-words"
      ],
      "metadata": {
        "id": "wki1S4LMKCrh"
      }
    },
    {
      "cell_type": "code",
      "source": [
        "def convert_to_bow(text: str, vocab):\n",
        "    \"\"\"\n",
        "    Returns a bag-of-word vector of size len(vocab).\n",
        "    \"\"\"\n",
        "    # Escreva aqui seu código.\n",
        "    return"
      ],
      "metadata": {
        "id": "4TdUgA5RMl_4"
      },
      "execution_count": null,
      "outputs": []
    },
    {
      "cell_type": "markdown",
      "source": [
        "## Testando a função"
      ],
      "metadata": {
        "id": "jLnkDcWil-Jd"
      }
    },
    {
      "cell_type": "code",
      "source": [
        "# Escreva aqui seu(s) assert(s)."
      ],
      "metadata": {
        "id": "kTu0EBGVGw_8"
      },
      "execution_count": null,
      "outputs": []
    },
    {
      "cell_type": "markdown",
      "metadata": {
        "id": "7_6pddDHEM_r"
      },
      "source": [
        "## Definindo a Rede Neural\n",
        "\n",
        "**Entrada:**\n",
        "\n",
        "$x \\in R^{B \\times |V|}$     (bag-of-words)\n",
        "\n",
        "**Parametros:**\n",
        "\n",
        "$W \\in R^{|V| \\times K}$    (weights: matriz de pesos)\n",
        "\n",
        "$b \\in R^{K}$    (bias/viés)\n",
        "\n",
        "**Saída:**\n",
        "\n",
        "$p \\in R^{B \\times K}$  (probabilidade de cada classe)\n",
        "\n",
        "\n",
        "**Onde:**\n",
        "\n",
        "$K$ = número de classes\n",
        "\n",
        "$B$ = tamanho do batch\n",
        "\n",
        "$|V|$ = tamanho do vocabulário\n",
        "\n",
        "**Definição da rede:**\n",
        "\n",
        "$z = xW + b$   (camada linear. $z$ é chamado de logits)\n",
        "\n",
        "$p_i = \\frac{e^{z_i}}{\\sum_{j=0}^{K-1} e^{z_j}}$   (softmax)\n",
        "\n"
      ]
    },
    {
      "cell_type": "code",
      "metadata": {
        "id": "oLReRSuDEPLL"
      },
      "source": [
        "class MyModel():\n",
        "\n",
        "    def __init__(self, dim: int):\n",
        "        # Escreva seu código aqui.\n",
        "\n",
        "    def __call__(self, x):\n",
        "        # Escreva seu código aqui.\n",
        "        return probs"
      ],
      "execution_count": null,
      "outputs": []
    },
    {
      "cell_type": "markdown",
      "source": [
        "## Testando modelo com uma entrada aleatória\n",
        "\n",
        "Escreva abaixo um pequeno código para testar se seu modelo processa uma matriz de entrada de tamanho `batch_size, dim`, ou seja, a matriz contém `batch_size` exemplos, cada um sendo representado por um vetor de tamanho `dim`."
      ],
      "metadata": {
        "id": "_8eWRvN79f4O"
      }
    },
    {
      "cell_type": "code",
      "source": [
        "# Escreva seu código aqui."
      ],
      "metadata": {
        "id": "R-lupvM_HxOJ"
      },
      "execution_count": null,
      "outputs": []
    },
    {
      "cell_type": "markdown",
      "source": [
        "# Função de custo Entropia Cruzada\n",
        "\n",
        "$y \\in R^{K}$  (target),\n",
        "\n",
        "a equação da entropia cruzada associada a um exemplo é dada por:\n",
        "\n",
        "$L = \\sum_{i=0}^{K-1} -y_i \\log p_i$   (esta é a loss por exemplo)\n",
        "\n",
        "Se $y$ for um vetor one-hot (apenas um dos elementos é diferente de zero), podemos simplicar a equação acima para:\n",
        "\n",
        "$L = -\\log p_i$\n",
        "\n",
        "Onde $i$ é o indice da classe correta. Ou seja, $p_i$ é a probabilidade que o modelo colocou na classe correta.\n",
        "\n",
        "A função de custo é a **média** da entropia cruzada de cada exemplo no batch."
      ],
      "metadata": {
        "id": "O-EXAYdOvGcF"
      }
    },
    {
      "cell_type": "code",
      "source": [
        "def cross_entropy_loss(probs, targets):\n",
        "    \"\"\"\n",
        "    Args:\n",
        "      probs: a float32 matrix of shape (batch_size, number of classes)\n",
        "      targets: a long (int64) array of shape (batch_size)\n",
        "\n",
        "    Returns:\n",
        "      Mean loss in the batch.\n",
        "    \"\"\"\n",
        "    # Rescreva o código abaixo sem usar laço.\n",
        "    # batch_size = probs.shape[0]\n",
        "    # losses = []\n",
        "    # for i in range(batch_size):\n",
        "    #     losses.append(-torch.log(probs[i, targets[i]]))\n",
        "    #\n",
        "    # losses = torch.stack(losses)\n",
        "    return"
      ],
      "metadata": {
        "id": "YyHefTffhgmx"
      },
      "execution_count": null,
      "outputs": []
    },
    {
      "cell_type": "markdown",
      "source": [
        "## Testando a função entropia cruzada com probabilidades de 50%\n",
        "\n",
        "Escreva abaixo um pequeno código para testar se a entropia cruzada confere com a resposta do problema 3.6 do exercício da semana passada. Crie um tensor para as probabilidades (50%) e um target também aleatório balanceado e calcule a cross entropia. Qual é o valor esperado da cross entropia nesse caso?"
      ],
      "metadata": {
        "id": "kIgECDC5uqRo"
      }
    },
    {
      "cell_type": "code",
      "source": [
        "# escreva seu código aqui"
      ],
      "metadata": {
        "id": "-10K5Jecve--"
      },
      "execution_count": null,
      "outputs": []
    },
    {
      "cell_type": "markdown",
      "source": [
        "# Convertendo dataset de treino para uma matriz de bag-of-words"
      ],
      "metadata": {
        "id": "jWcTeNuJF1Mp"
      }
    },
    {
      "cell_type": "code",
      "source": [
        "vocab = create_vocab(X_treino, max_tokens=1000)\n",
        "bows = []\n",
        "for text in X_treino:\n",
        "    bow = convert_to_bow(text, vocab)\n",
        "    bows.append(bow)\n",
        "\n",
        "X = torch.stack(bows)\n",
        "print(X.shape)"
      ],
      "metadata": {
        "id": "kGIFOJZcFs7b"
      },
      "execution_count": null,
      "outputs": []
    },
    {
      "cell_type": "markdown",
      "source": [
        "# Laço de Treinamento"
      ],
      "metadata": {
        "id": "OSdBQozHlT59"
      }
    },
    {
      "cell_type": "code",
      "source": [
        "num_iterations = 100\n",
        "learning_rate = 0.01\n",
        "\n",
        "model = MyModel(dim=len(vocab))\n",
        "\n",
        "for i in range(num_iterations):\n",
        "    # Zera os gradientes\n",
        "    if model.weights.grad is not None:\n",
        "        model.weights.grad.data.zero_()\n",
        "        model.bias.grad.data.zero_()\n",
        "\n",
        "    probs = model(X)\n",
        "    loss = cross_entropy_loss(probs, Y_treino)\n",
        "    print(f'iteration: {i}  loss: {loss:.6f}  exp(loss): {torch.exp(loss):.4f}')\n",
        "    loss.backward()\n",
        "\n",
        "    #Atualiza os pesos\n",
        "    model.weights.data = model.weights.data - learning_rate * model.weights.grad.data\n",
        "    model.bias.data = model.bias.data - learning_rate * model.bias.grad.data"
      ],
      "metadata": {
        "id": "7j3a3FsBlWCy"
      },
      "execution_count": null,
      "outputs": []
    }
  ]
}